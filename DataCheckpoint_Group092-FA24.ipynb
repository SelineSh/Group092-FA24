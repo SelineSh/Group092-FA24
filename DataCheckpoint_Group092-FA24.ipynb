{
 "cells": [
  {
   "cell_type": "markdown",
   "metadata": {},
   "source": [
    "**If you lost points on the last checkpoint you can get them back by responding to TA/IA feedback**  \n",
    "\n",
    "Update/change the relevant sections where you lost those points, make sure you respond on GitHub Issues to your TA/IA to call their attention to the changes you made here.\n",
    "\n",
    "Please update your Timeline... no battle plan survives contact with the enemy, so make sure we understand how your plans have changed."
   ]
  },
  {
   "cell_type": "markdown",
   "metadata": {},
   "source": [
    "# COGS 108 - Data Checkpoint"
   ]
  },
  {
   "cell_type": "markdown",
   "metadata": {},
   "source": [
    "# Names\n",
    "\n",
    "- Menghang Wu\n",
    "- Cecilia Lin\n",
    "- Julie Cai\n",
    "- Yunfei Shih\n",
    "- Guan Huang Chen"
   ]
  },
  {
   "cell_type": "markdown",
   "metadata": {},
   "source": [
    "# Research Question"
   ]
  },
  {
   "cell_type": "markdown",
   "metadata": {},
   "source": [
    "Is there a statistically significant difference in the preference for hybrid plug-in vehicles versus battery electric vehicles (EVs) across the counties in Washington?"
   ]
  },
  {
   "cell_type": "markdown",
   "metadata": {},
   "source": [
    "## Background and Prior Work"
   ]
  },
  {
   "cell_type": "markdown",
   "metadata": {},
   "source": [
    "In recent years, heightened concerns over climate change and air pollution have drawn significant attention to sustainable transportation. Electric vehicles (EVs) and hybrid vehicles are gaining traction across the United States, particularly in eco-conscious states like Washington. These vehicles are essential for reducing greenhouse gas emissions and lowering dependency on fossil fuels. Additionally, rising fuel prices are prompting more consumers to consider electric or fuel-efficient hybrid options.\n",
    "\n",
    "Although both governments and businesses actively promote the electric vehicle market, consumer preferences vary considerably by region, especially in the choice between hybrid vehicles and battery electric vehicles (BEVs). Understanding these regional preferences offers valuable insights for assessing market demand and shaping policies that support a smoother transition toward electrification in the transportation sector.\n",
    "\n",
    "Prior studies indicate that preferences for EVs and hybrids differ across geographic regions. In a study by Nelder and Jung (2016)<a name=\"cite_ref-1.1\"></a>[<sup>1</sup>](#cite_note-1.1), factors influencing the adoption of EVs were examined, including the distribution of charging infrastructure, vehicle range, and geographic characteristics. These factors significantly impact the efficiency of both hybrid and electric vehicles, influencing consumer preferences for each type across different areas.\n",
    "\n",
    "Another relevant study by Morrissey et al. (2016)<a name=\"cite_ref-1.2\"></a>[<sup>2</sup>](#cite_note-1.2) analyzed EV adoption patterns in several European countries, focusing on urban versus rural regions. They found that urban consumers were more inclined to choose BEVs due to readily available charging infrastructure, whereas rural areas favored hybrids, given their flexibility in regions with limited charging options. This research supports the notion that consumer preferences for hybrids and BEVs may vary based on infrastructure and geography, aligning closely with our research question of whether statistically significant preference differences exist across Washington counties.\n",
    "\n",
    "References:\n",
    "1. <a name=\"cite_note-1.1\"></a> [^](#cite_ref-1)Nelder, C., & Jung, C. (2016). The future of electric vehicles in the U.S.: Forecasts and projections. Rocky Mountain Institute.https://rmi.org\n",
    "\n",
    "2. <a name=\"cite_note-1.2\"></a> [^](#cite_ref-2)Morrissey, P., Weldon, P., & O'Mahony, M. (2016). Future standard and fast charging infrastructure planning: An analysis of charging behaviour in EV-ready urban regions. Journal of Transport Geography.\n",
    "https://www.infona.pl/resource/bwmeta1.element.elsevier-5c9e73d4-17a4-38da-ae24-db1598cce4d7\n"
   ]
  },
  {
   "cell_type": "markdown",
   "metadata": {},
   "source": [
    "# Hypothesis\n"
   ]
  },
  {
   "cell_type": "markdown",
   "metadata": {},
   "source": [
    "We predict that the counties across Washington has a statistically significant preference for battery electric vehicles (BEVs) over hybrid plug-in vehicle. The preference will be measure by the ratio of BEV and plug-in vehicle across the counties. We believe that people perfer BEVs more because the price of BEVs is lower than hybrid vehicles and consumers do not need to be concerned with the fluctuating price of gasoline."
   ]
  },
  {
   "cell_type": "markdown",
   "metadata": {},
   "source": [
    "# Data"
   ]
  },
  {
   "cell_type": "markdown",
   "metadata": {},
   "source": [
    "## Data overview\n",
    "\n",
    "- Dataset #1\n",
    "  - Dataset Name: Electric Vehicle Population Data\n",
    "  - Link to the dataset: https://catalog.data.gov/dataset/electric-vehicle-population-data\n",
    "  - Number of observations: 210162\n",
    "  - Number of variables: 17"
   ]
  },
  {
   "cell_type": "markdown",
   "metadata": {},
   "source": [
    "\n",
    "*Now write 2 - 5 sentences describing each dataset here. Include a short description of the important variables in the dataset; what the metrics and datatypes are, what concepts they may be proxies for. Include information about how you would need to wrangle/clean/preprocess the dataset*\n",
    "\n",
    "The dataset includes all electric car registered across the counties in Washington state, and the model year of the EVs varied from 1999 to 2025. It has 210162 rows of observations as the population, and we could sample randomly from the dataset if needed. The dataset allows us to conduct for statistical analysis since the samples would be over 1000 observations.\n",
    "\n",
    "Most of the variables are categorical variables, stored as string, such as County, City, Model Year, Make, and Electric Vehicle Type. There are only two quantitative variables stored as float, which is Electric Range and Base MSRP. Electric Range describes the distance that EV can travel on a single charge of its battery, while Base MSRP describes the manufacturer price of a EV without any additional features.\n",
    "\n",
    "The important variables of the dataset for our project are County and Electric Vehicle Type. The County column includes the county of the EV is registered in, and the Electric Vehicle Type identifies the vehicle as Plug-in Hybrid Electric Vehicle (PHEV) or Battery Electric Vehicle (BEV). ANother variable that we might dive into would be Base MSRP since we think there would be more BEVs due to the cheaper price.\n",
    "\n",
    "To prepare for the analysis, we could store the dataset as a Pandas dataframe, drop uncessary features to lessen computational burden, check missing values, and ensure correct data types for features. We would also group by the EV by counties to gain insight on the percent ratio of BEVs and PHEVs across the counties."
   ]
  },
  {
   "cell_type": "markdown",
   "metadata": {},
   "source": [
    "## Electric Vehicle Population Data"
   ]
  },
  {
   "cell_type": "code",
   "execution_count": 2,
   "metadata": {},
   "outputs": [],
   "source": [
    "import pandas as pd\n",
    "import seaborn as sns\n",
    "import matplotlib.pyplot as plt\n",
    "import numpy as np"
   ]
  },
  {
   "cell_type": "code",
   "execution_count": 3,
   "metadata": {},
   "outputs": [
    {
     "data": {
      "text/html": [
       "<div>\n",
       "<style scoped>\n",
       "    .dataframe tbody tr th:only-of-type {\n",
       "        vertical-align: middle;\n",
       "    }\n",
       "\n",
       "    .dataframe tbody tr th {\n",
       "        vertical-align: top;\n",
       "    }\n",
       "\n",
       "    .dataframe thead th {\n",
       "        text-align: right;\n",
       "    }\n",
       "</style>\n",
       "<table border=\"1\" class=\"dataframe\">\n",
       "  <thead>\n",
       "    <tr style=\"text-align: right;\">\n",
       "      <th></th>\n",
       "      <th>VIN (1-10)</th>\n",
       "      <th>County</th>\n",
       "      <th>City</th>\n",
       "      <th>State</th>\n",
       "      <th>Postal Code</th>\n",
       "      <th>Model Year</th>\n",
       "      <th>Make</th>\n",
       "      <th>Model</th>\n",
       "      <th>Electric Vehicle Type</th>\n",
       "      <th>Clean Alternative Fuel Vehicle (CAFV) Eligibility</th>\n",
       "      <th>Electric Range</th>\n",
       "      <th>Base MSRP</th>\n",
       "      <th>Legislative District</th>\n",
       "      <th>DOL Vehicle ID</th>\n",
       "      <th>Vehicle Location</th>\n",
       "      <th>Electric Utility</th>\n",
       "      <th>2020 Census Tract</th>\n",
       "    </tr>\n",
       "  </thead>\n",
       "  <tbody>\n",
       "    <tr>\n",
       "      <th>0</th>\n",
       "      <td>5UXTA6C0XM</td>\n",
       "      <td>Kitsap</td>\n",
       "      <td>Seabeck</td>\n",
       "      <td>WA</td>\n",
       "      <td>98380.0</td>\n",
       "      <td>2021</td>\n",
       "      <td>BMW</td>\n",
       "      <td>X5</td>\n",
       "      <td>Plug-in Hybrid Electric Vehicle (PHEV)</td>\n",
       "      <td>Clean Alternative Fuel Vehicle Eligible</td>\n",
       "      <td>30.0</td>\n",
       "      <td>0.0</td>\n",
       "      <td>35.0</td>\n",
       "      <td>267929112</td>\n",
       "      <td>POINT (-122.8728334 47.5798304)</td>\n",
       "      <td>PUGET SOUND ENERGY INC</td>\n",
       "      <td>5.303509e+10</td>\n",
       "    </tr>\n",
       "    <tr>\n",
       "      <th>1</th>\n",
       "      <td>5YJ3E1EB1J</td>\n",
       "      <td>Kitsap</td>\n",
       "      <td>Poulsbo</td>\n",
       "      <td>WA</td>\n",
       "      <td>98370.0</td>\n",
       "      <td>2018</td>\n",
       "      <td>TESLA</td>\n",
       "      <td>MODEL 3</td>\n",
       "      <td>Battery Electric Vehicle (BEV)</td>\n",
       "      <td>Clean Alternative Fuel Vehicle Eligible</td>\n",
       "      <td>215.0</td>\n",
       "      <td>0.0</td>\n",
       "      <td>23.0</td>\n",
       "      <td>475911439</td>\n",
       "      <td>POINT (-122.6368884 47.7469547)</td>\n",
       "      <td>PUGET SOUND ENERGY INC</td>\n",
       "      <td>5.303509e+10</td>\n",
       "    </tr>\n",
       "    <tr>\n",
       "      <th>2</th>\n",
       "      <td>WP0AD2A73G</td>\n",
       "      <td>Snohomish</td>\n",
       "      <td>Bothell</td>\n",
       "      <td>WA</td>\n",
       "      <td>98012.0</td>\n",
       "      <td>2016</td>\n",
       "      <td>PORSCHE</td>\n",
       "      <td>PANAMERA</td>\n",
       "      <td>Plug-in Hybrid Electric Vehicle (PHEV)</td>\n",
       "      <td>Not eligible due to low battery range</td>\n",
       "      <td>15.0</td>\n",
       "      <td>0.0</td>\n",
       "      <td>1.0</td>\n",
       "      <td>101971278</td>\n",
       "      <td>POINT (-122.206146 47.839957)</td>\n",
       "      <td>PUGET SOUND ENERGY INC</td>\n",
       "      <td>5.306105e+10</td>\n",
       "    </tr>\n",
       "  </tbody>\n",
       "</table>\n",
       "</div>"
      ],
      "text/plain": [
       "   VIN (1-10)     County     City State  Postal Code  Model Year     Make  \\\n",
       "0  5UXTA6C0XM     Kitsap  Seabeck    WA      98380.0        2021      BMW   \n",
       "1  5YJ3E1EB1J     Kitsap  Poulsbo    WA      98370.0        2018    TESLA   \n",
       "2  WP0AD2A73G  Snohomish  Bothell    WA      98012.0        2016  PORSCHE   \n",
       "\n",
       "      Model                   Electric Vehicle Type  \\\n",
       "0        X5  Plug-in Hybrid Electric Vehicle (PHEV)   \n",
       "1   MODEL 3          Battery Electric Vehicle (BEV)   \n",
       "2  PANAMERA  Plug-in Hybrid Electric Vehicle (PHEV)   \n",
       "\n",
       "  Clean Alternative Fuel Vehicle (CAFV) Eligibility  Electric Range  \\\n",
       "0           Clean Alternative Fuel Vehicle Eligible            30.0   \n",
       "1           Clean Alternative Fuel Vehicle Eligible           215.0   \n",
       "2             Not eligible due to low battery range            15.0   \n",
       "\n",
       "   Base MSRP  Legislative District  DOL Vehicle ID  \\\n",
       "0        0.0                  35.0       267929112   \n",
       "1        0.0                  23.0       475911439   \n",
       "2        0.0                   1.0       101971278   \n",
       "\n",
       "                  Vehicle Location        Electric Utility  2020 Census Tract  \n",
       "0  POINT (-122.8728334 47.5798304)  PUGET SOUND ENERGY INC       5.303509e+10  \n",
       "1  POINT (-122.6368884 47.7469547)  PUGET SOUND ENERGY INC       5.303509e+10  \n",
       "2    POINT (-122.206146 47.839957)  PUGET SOUND ENERGY INC       5.306105e+10  "
      ]
     },
     "execution_count": 3,
     "metadata": {},
     "output_type": "execute_result"
    }
   ],
   "source": [
    "## YOUR CODE TO LOAD/CLEAN/TIDY/WRANGLE THE DATA GOES HERE\n",
    "## FEEL FREE TO ADD MULTIPLE CELLS PER SECTION \n",
    "ev_population = pd.read_csv('Electric_Vehicle_Population_Data.csv')\n",
    "ev_population.head(3)"
   ]
  },
  {
   "cell_type": "code",
   "execution_count": 4,
   "metadata": {},
   "outputs": [
    {
     "data": {
      "text/plain": [
       "(210165, 17)"
      ]
     },
     "execution_count": 4,
     "metadata": {},
     "output_type": "execute_result"
    }
   ],
   "source": [
    "#check number of observations and variables\n",
    "ev_population.shape"
   ]
  },
  {
   "cell_type": "code",
   "execution_count": 5,
   "metadata": {},
   "outputs": [
    {
     "data": {
      "text/plain": [
       "VIN (1-10)                                            object\n",
       "County                                                object\n",
       "City                                                  object\n",
       "State                                                 object\n",
       "Postal Code                                          float64\n",
       "Model Year                                             int64\n",
       "Make                                                  object\n",
       "Model                                                 object\n",
       "Electric Vehicle Type                                 object\n",
       "Clean Alternative Fuel Vehicle (CAFV) Eligibility     object\n",
       "Electric Range                                       float64\n",
       "Base MSRP                                            float64\n",
       "Legislative District                                 float64\n",
       "DOL Vehicle ID                                         int64\n",
       "Vehicle Location                                      object\n",
       "Electric Utility                                      object\n",
       "2020 Census Tract                                    float64\n",
       "dtype: object"
      ]
     },
     "execution_count": 5,
     "metadata": {},
     "output_type": "execute_result"
    }
   ],
   "source": [
    "#check datatypes\n",
    "ev_population.dtypes"
   ]
  },
  {
   "cell_type": "code",
   "execution_count": null,
   "metadata": {},
   "outputs": [],
   "source": []
  },
  {
   "cell_type": "code",
   "execution_count": 6,
   "metadata": {},
   "outputs": [
    {
     "data": {
      "text/html": [
       "<div>\n",
       "<style scoped>\n",
       "    .dataframe tbody tr th:only-of-type {\n",
       "        vertical-align: middle;\n",
       "    }\n",
       "\n",
       "    .dataframe tbody tr th {\n",
       "        vertical-align: top;\n",
       "    }\n",
       "\n",
       "    .dataframe thead th {\n",
       "        text-align: right;\n",
       "    }\n",
       "</style>\n",
       "<table border=\"1\" class=\"dataframe\">\n",
       "  <thead>\n",
       "    <tr style=\"text-align: right;\">\n",
       "      <th></th>\n",
       "      <th>County</th>\n",
       "      <th>City</th>\n",
       "      <th>State</th>\n",
       "      <th>Postal Code</th>\n",
       "      <th>Model Year</th>\n",
       "      <th>Make</th>\n",
       "      <th>Model</th>\n",
       "      <th>Electric Vehicle Type</th>\n",
       "      <th>Clean Alternative Fuel Vehicle (CAFV) Eligibility</th>\n",
       "      <th>Base MSRP</th>\n",
       "    </tr>\n",
       "  </thead>\n",
       "  <tbody>\n",
       "    <tr>\n",
       "      <th>0</th>\n",
       "      <td>Kitsap</td>\n",
       "      <td>Seabeck</td>\n",
       "      <td>WA</td>\n",
       "      <td>98380.0</td>\n",
       "      <td>2021</td>\n",
       "      <td>BMW</td>\n",
       "      <td>X5</td>\n",
       "      <td>Plug-in Hybrid Electric Vehicle (PHEV)</td>\n",
       "      <td>Clean Alternative Fuel Vehicle Eligible</td>\n",
       "      <td>0.0</td>\n",
       "    </tr>\n",
       "    <tr>\n",
       "      <th>1</th>\n",
       "      <td>Kitsap</td>\n",
       "      <td>Poulsbo</td>\n",
       "      <td>WA</td>\n",
       "      <td>98370.0</td>\n",
       "      <td>2018</td>\n",
       "      <td>TESLA</td>\n",
       "      <td>MODEL 3</td>\n",
       "      <td>Battery Electric Vehicle (BEV)</td>\n",
       "      <td>Clean Alternative Fuel Vehicle Eligible</td>\n",
       "      <td>0.0</td>\n",
       "    </tr>\n",
       "    <tr>\n",
       "      <th>2</th>\n",
       "      <td>Snohomish</td>\n",
       "      <td>Bothell</td>\n",
       "      <td>WA</td>\n",
       "      <td>98012.0</td>\n",
       "      <td>2016</td>\n",
       "      <td>PORSCHE</td>\n",
       "      <td>PANAMERA</td>\n",
       "      <td>Plug-in Hybrid Electric Vehicle (PHEV)</td>\n",
       "      <td>Not eligible due to low battery range</td>\n",
       "      <td>0.0</td>\n",
       "    </tr>\n",
       "    <tr>\n",
       "      <th>3</th>\n",
       "      <td>Kitsap</td>\n",
       "      <td>Bremerton</td>\n",
       "      <td>WA</td>\n",
       "      <td>98310.0</td>\n",
       "      <td>2018</td>\n",
       "      <td>TESLA</td>\n",
       "      <td>MODEL 3</td>\n",
       "      <td>Battery Electric Vehicle (BEV)</td>\n",
       "      <td>Clean Alternative Fuel Vehicle Eligible</td>\n",
       "      <td>0.0</td>\n",
       "    </tr>\n",
       "    <tr>\n",
       "      <th>4</th>\n",
       "      <td>King</td>\n",
       "      <td>Redmond</td>\n",
       "      <td>WA</td>\n",
       "      <td>98052.0</td>\n",
       "      <td>2019</td>\n",
       "      <td>NISSAN</td>\n",
       "      <td>LEAF</td>\n",
       "      <td>Battery Electric Vehicle (BEV)</td>\n",
       "      <td>Clean Alternative Fuel Vehicle Eligible</td>\n",
       "      <td>0.0</td>\n",
       "    </tr>\n",
       "  </tbody>\n",
       "</table>\n",
       "</div>"
      ],
      "text/plain": [
       "      County       City State  Postal Code  Model Year     Make     Model  \\\n",
       "0     Kitsap    Seabeck    WA      98380.0        2021      BMW        X5   \n",
       "1     Kitsap    Poulsbo    WA      98370.0        2018    TESLA   MODEL 3   \n",
       "2  Snohomish    Bothell    WA      98012.0        2016  PORSCHE  PANAMERA   \n",
       "3     Kitsap  Bremerton    WA      98310.0        2018    TESLA   MODEL 3   \n",
       "4       King    Redmond    WA      98052.0        2019   NISSAN      LEAF   \n",
       "\n",
       "                    Electric Vehicle Type  \\\n",
       "0  Plug-in Hybrid Electric Vehicle (PHEV)   \n",
       "1          Battery Electric Vehicle (BEV)   \n",
       "2  Plug-in Hybrid Electric Vehicle (PHEV)   \n",
       "3          Battery Electric Vehicle (BEV)   \n",
       "4          Battery Electric Vehicle (BEV)   \n",
       "\n",
       "  Clean Alternative Fuel Vehicle (CAFV) Eligibility  Base MSRP  \n",
       "0           Clean Alternative Fuel Vehicle Eligible        0.0  \n",
       "1           Clean Alternative Fuel Vehicle Eligible        0.0  \n",
       "2             Not eligible due to low battery range        0.0  \n",
       "3           Clean Alternative Fuel Vehicle Eligible        0.0  \n",
       "4           Clean Alternative Fuel Vehicle Eligible        0.0  "
      ]
     },
     "execution_count": 6,
     "metadata": {},
     "output_type": "execute_result"
    }
   ],
   "source": [
    "# drop irrevelant columns and keep variables that we might use for analysis\n",
    "ev_clean = ev_population.drop(columns = ['VIN (1-10)', \n",
    "                                         'Legislative District', \n",
    "                                         'DOL Vehicle ID', \n",
    "                                         'Vehicle Location', \n",
    "                                         'Electric Utility', \n",
    "                                         '2020 Census Tract',\n",
    "                                         'Electric Range'])\n",
    "ev_clean.head()"
   ]
  },
  {
   "cell_type": "code",
   "execution_count": 7,
   "metadata": {},
   "outputs": [
    {
     "data": {
      "text/plain": [
       "County                                                True\n",
       "City                                                  True\n",
       "State                                                False\n",
       "Postal Code                                           True\n",
       "Model Year                                           False\n",
       "Make                                                 False\n",
       "Model                                                False\n",
       "Electric Vehicle Type                                False\n",
       "Clean Alternative Fuel Vehicle (CAFV) Eligibility    False\n",
       "Base MSRP                                             True\n",
       "dtype: bool"
      ]
     },
     "execution_count": 7,
     "metadata": {},
     "output_type": "execute_result"
    }
   ],
   "source": [
    "#check for missing values\n",
    "ev_clean.isna().any()"
   ]
  },
  {
   "cell_type": "code",
   "execution_count": 8,
   "metadata": {},
   "outputs": [
    {
     "data": {
      "text/plain": [
       "Base MSRP\n",
       "0.0        206851\n",
       "69900.0      1334\n",
       "31950.0       367\n",
       "52900.0       221\n",
       "32250.0       142\n",
       "Name: count, dtype: int64"
      ]
     },
     "execution_count": 8,
     "metadata": {},
     "output_type": "execute_result"
    }
   ],
   "source": [
    "ev_clean['Base MSRP'].value_counts().head()"
   ]
  },
  {
   "cell_type": "markdown",
   "metadata": {},
   "source": [
    "There is missing values and 0 for base MSRP, so we fill them by the group mean base MSPR of the make of the model to limit possible bias.\n"
   ]
  },
  {
   "cell_type": "code",
   "execution_count": 9,
   "metadata": {},
   "outputs": [
    {
     "name": "stderr",
     "output_type": "stream",
     "text": [
      "C:\\Users\\lincc\\AppData\\Local\\Temp\\ipykernel_13516\\1464208548.py:1: FutureWarning: A value is trying to be set on a copy of a DataFrame or Series through chained assignment using an inplace method.\n",
      "The behavior will change in pandas 3.0. This inplace method will never work because the intermediate object on which we are setting values always behaves as a copy.\n",
      "\n",
      "For example, when doing 'df[col].method(value, inplace=True)', try using 'df.method({col: value}, inplace=True)' or df[col] = df[col].method(value) instead, to perform the operation inplace on the original object.\n",
      "\n",
      "\n",
      "  ev_clean['Base MSRP'].replace(0, np.nan, inplace=True)\n"
     ]
    }
   ],
   "source": [
    "ev_clean['Base MSRP'].replace(0, np.nan, inplace=True)\n",
    "ev_clean['Base MSRP'] = ev_clean.groupby('Make')['Base MSRP'].transform(lambda x: x.fillna(x.mean()))\n",
    "\n",
    "#for those make that does not have a base msrp, we fill it with the mean based on the vehicle type\n",
    "ev_clean['Base MSRP'] = ev_clean.groupby('Electric Vehicle Type')['Base MSRP'].transform(lambda x: x.fillna(x.mean()))\n"
   ]
  },
  {
   "cell_type": "markdown",
   "metadata": {},
   "source": [
    "We drop the missing values in the categorical variables since if we randomly assign the vehicle to a county it could lead to significant bias in the analysis."
   ]
  },
  {
   "cell_type": "code",
   "execution_count": 10,
   "metadata": {},
   "outputs": [],
   "source": [
    "ev_clean = ev_clean.dropna(subset=['County', 'City', 'Postal Code'])"
   ]
  },
  {
   "cell_type": "code",
   "execution_count": 11,
   "metadata": {},
   "outputs": [
    {
     "data": {
      "text/plain": [
       "County                                               False\n",
       "City                                                 False\n",
       "State                                                False\n",
       "Postal Code                                          False\n",
       "Model Year                                           False\n",
       "Make                                                 False\n",
       "Model                                                False\n",
       "Electric Vehicle Type                                False\n",
       "Clean Alternative Fuel Vehicle (CAFV) Eligibility    False\n",
       "Base MSRP                                            False\n",
       "dtype: bool"
      ]
     },
     "execution_count": 11,
     "metadata": {},
     "output_type": "execute_result"
    }
   ],
   "source": [
    "ev_clean.isna().any()"
   ]
  },
  {
   "cell_type": "code",
   "execution_count": 15,
   "metadata": {},
   "outputs": [
    {
     "data": {
      "text/html": [
       "<div>\n",
       "<style scoped>\n",
       "    .dataframe tbody tr th:only-of-type {\n",
       "        vertical-align: middle;\n",
       "    }\n",
       "\n",
       "    .dataframe tbody tr th {\n",
       "        vertical-align: top;\n",
       "    }\n",
       "\n",
       "    .dataframe thead th {\n",
       "        text-align: right;\n",
       "    }\n",
       "</style>\n",
       "<table border=\"1\" class=\"dataframe\">\n",
       "  <thead>\n",
       "    <tr style=\"text-align: right;\">\n",
       "      <th></th>\n",
       "      <th>County</th>\n",
       "      <th>City</th>\n",
       "      <th>State</th>\n",
       "      <th>Postal Code</th>\n",
       "      <th>Model Year</th>\n",
       "      <th>Make</th>\n",
       "      <th>Model</th>\n",
       "      <th>Electric Vehicle Type</th>\n",
       "      <th>Clean Alternative Fuel Vehicle (CAFV) Eligibility</th>\n",
       "      <th>Base MSRP</th>\n",
       "    </tr>\n",
       "  </thead>\n",
       "  <tbody>\n",
       "    <tr>\n",
       "      <th>0</th>\n",
       "      <td>Kitsap</td>\n",
       "      <td>Seabeck</td>\n",
       "      <td>WA</td>\n",
       "      <td>98380.0</td>\n",
       "      <td>2021</td>\n",
       "      <td>BMW</td>\n",
       "      <td>X5</td>\n",
       "      <td>Plug-in Hybrid Electric Vehicle (PHEV)</td>\n",
       "      <td>Clean Alternative Fuel Vehicle Eligible</td>\n",
       "      <td>52859.547244</td>\n",
       "    </tr>\n",
       "    <tr>\n",
       "      <th>1</th>\n",
       "      <td>Kitsap</td>\n",
       "      <td>Poulsbo</td>\n",
       "      <td>WA</td>\n",
       "      <td>98370.0</td>\n",
       "      <td>2018</td>\n",
       "      <td>TESLA</td>\n",
       "      <td>MODEL 3</td>\n",
       "      <td>Battery Electric Vehicle (BEV)</td>\n",
       "      <td>Clean Alternative Fuel Vehicle Eligible</td>\n",
       "      <td>70175.777631</td>\n",
       "    </tr>\n",
       "    <tr>\n",
       "      <th>2</th>\n",
       "      <td>Snohomish</td>\n",
       "      <td>Bothell</td>\n",
       "      <td>WA</td>\n",
       "      <td>98012.0</td>\n",
       "      <td>2016</td>\n",
       "      <td>PORSCHE</td>\n",
       "      <td>PANAMERA</td>\n",
       "      <td>Plug-in Hybrid Electric Vehicle (PHEV)</td>\n",
       "      <td>Not eligible due to low battery range</td>\n",
       "      <td>132440.000000</td>\n",
       "    </tr>\n",
       "    <tr>\n",
       "      <th>3</th>\n",
       "      <td>Kitsap</td>\n",
       "      <td>Bremerton</td>\n",
       "      <td>WA</td>\n",
       "      <td>98310.0</td>\n",
       "      <td>2018</td>\n",
       "      <td>TESLA</td>\n",
       "      <td>MODEL 3</td>\n",
       "      <td>Battery Electric Vehicle (BEV)</td>\n",
       "      <td>Clean Alternative Fuel Vehicle Eligible</td>\n",
       "      <td>70175.777631</td>\n",
       "    </tr>\n",
       "    <tr>\n",
       "      <th>4</th>\n",
       "      <td>King</td>\n",
       "      <td>Redmond</td>\n",
       "      <td>WA</td>\n",
       "      <td>98052.0</td>\n",
       "      <td>2019</td>\n",
       "      <td>NISSAN</td>\n",
       "      <td>LEAF</td>\n",
       "      <td>Battery Electric Vehicle (BEV)</td>\n",
       "      <td>Clean Alternative Fuel Vehicle Eligible</td>\n",
       "      <td>66840.223284</td>\n",
       "    </tr>\n",
       "  </tbody>\n",
       "</table>\n",
       "</div>"
      ],
      "text/plain": [
       "      County       City State  Postal Code  Model Year     Make     Model  \\\n",
       "0     Kitsap    Seabeck    WA      98380.0        2021      BMW        X5   \n",
       "1     Kitsap    Poulsbo    WA      98370.0        2018    TESLA   MODEL 3   \n",
       "2  Snohomish    Bothell    WA      98012.0        2016  PORSCHE  PANAMERA   \n",
       "3     Kitsap  Bremerton    WA      98310.0        2018    TESLA   MODEL 3   \n",
       "4       King    Redmond    WA      98052.0        2019   NISSAN      LEAF   \n",
       "\n",
       "                    Electric Vehicle Type  \\\n",
       "0  Plug-in Hybrid Electric Vehicle (PHEV)   \n",
       "1          Battery Electric Vehicle (BEV)   \n",
       "2  Plug-in Hybrid Electric Vehicle (PHEV)   \n",
       "3          Battery Electric Vehicle (BEV)   \n",
       "4          Battery Electric Vehicle (BEV)   \n",
       "\n",
       "  Clean Alternative Fuel Vehicle (CAFV) Eligibility      Base MSRP  \n",
       "0           Clean Alternative Fuel Vehicle Eligible   52859.547244  \n",
       "1           Clean Alternative Fuel Vehicle Eligible   70175.777631  \n",
       "2             Not eligible due to low battery range  132440.000000  \n",
       "3           Clean Alternative Fuel Vehicle Eligible   70175.777631  \n",
       "4           Clean Alternative Fuel Vehicle Eligible   66840.223284  "
      ]
     },
     "execution_count": 15,
     "metadata": {},
     "output_type": "execute_result"
    }
   ],
   "source": [
    "ev_clean.head()"
   ]
  },
  {
   "cell_type": "markdown",
   "metadata": {},
   "source": [
    "After handling missing values, we will start taking a look at the EV type distributions."
   ]
  },
  {
   "cell_type": "code",
   "execution_count": 13,
   "metadata": {},
   "outputs": [
    {
     "data": {
      "text/plain": [
       "Electric Vehicle Type\n",
       "Battery Electric Vehicle (BEV)            165552\n",
       "Plug-in Hybrid Electric Vehicle (PHEV)     44609\n",
       "Name: count, dtype: int64"
      ]
     },
     "execution_count": 13,
     "metadata": {},
     "output_type": "execute_result"
    }
   ],
   "source": [
    "ev_clean['Electric Vehicle Type'].value_counts()"
   ]
  },
  {
   "cell_type": "code",
   "execution_count": 14,
   "metadata": {},
   "outputs": [
    {
     "data": {
      "text/html": [
       "<div>\n",
       "<style scoped>\n",
       "    .dataframe tbody tr th:only-of-type {\n",
       "        vertical-align: middle;\n",
       "    }\n",
       "\n",
       "    .dataframe tbody tr th {\n",
       "        vertical-align: top;\n",
       "    }\n",
       "\n",
       "    .dataframe thead th {\n",
       "        text-align: right;\n",
       "    }\n",
       "</style>\n",
       "<table border=\"1\" class=\"dataframe\">\n",
       "  <thead>\n",
       "    <tr style=\"text-align: right;\">\n",
       "      <th></th>\n",
       "      <th>County</th>\n",
       "      <th>Electric Vehicle Type</th>\n",
       "      <th>Count</th>\n",
       "    </tr>\n",
       "  </thead>\n",
       "  <tbody>\n",
       "    <tr>\n",
       "      <th>0</th>\n",
       "      <td>Ada</td>\n",
       "      <td>Battery Electric Vehicle (BEV)</td>\n",
       "      <td>2</td>\n",
       "    </tr>\n",
       "    <tr>\n",
       "      <th>1</th>\n",
       "      <td>Adams</td>\n",
       "      <td>Battery Electric Vehicle (BEV)</td>\n",
       "      <td>46</td>\n",
       "    </tr>\n",
       "    <tr>\n",
       "      <th>2</th>\n",
       "      <td>Adams</td>\n",
       "      <td>Plug-in Hybrid Electric Vehicle (PHEV)</td>\n",
       "      <td>21</td>\n",
       "    </tr>\n",
       "    <tr>\n",
       "      <th>3</th>\n",
       "      <td>Alameda</td>\n",
       "      <td>Battery Electric Vehicle (BEV)</td>\n",
       "      <td>4</td>\n",
       "    </tr>\n",
       "    <tr>\n",
       "      <th>4</th>\n",
       "      <td>Alameda</td>\n",
       "      <td>Plug-in Hybrid Electric Vehicle (PHEV)</td>\n",
       "      <td>1</td>\n",
       "    </tr>\n",
       "    <tr>\n",
       "      <th>...</th>\n",
       "      <td>...</td>\n",
       "      <td>...</td>\n",
       "      <td>...</td>\n",
       "    </tr>\n",
       "    <tr>\n",
       "      <th>283</th>\n",
       "      <td>Yakima</td>\n",
       "      <td>Battery Electric Vehicle (BEV)</td>\n",
       "      <td>912</td>\n",
       "    </tr>\n",
       "    <tr>\n",
       "      <th>284</th>\n",
       "      <td>Yakima</td>\n",
       "      <td>Plug-in Hybrid Electric Vehicle (PHEV)</td>\n",
       "      <td>372</td>\n",
       "    </tr>\n",
       "    <tr>\n",
       "      <th>285</th>\n",
       "      <td>Yolo</td>\n",
       "      <td>Battery Electric Vehicle (BEV)</td>\n",
       "      <td>3</td>\n",
       "    </tr>\n",
       "    <tr>\n",
       "      <th>286</th>\n",
       "      <td>York</td>\n",
       "      <td>Battery Electric Vehicle (BEV)</td>\n",
       "      <td>1</td>\n",
       "    </tr>\n",
       "    <tr>\n",
       "      <th>287</th>\n",
       "      <td>Yuba</td>\n",
       "      <td>Battery Electric Vehicle (BEV)</td>\n",
       "      <td>1</td>\n",
       "    </tr>\n",
       "  </tbody>\n",
       "</table>\n",
       "<p>288 rows × 3 columns</p>\n",
       "</div>"
      ],
      "text/plain": [
       "      County                   Electric Vehicle Type  Count\n",
       "0        Ada          Battery Electric Vehicle (BEV)      2\n",
       "1      Adams          Battery Electric Vehicle (BEV)     46\n",
       "2      Adams  Plug-in Hybrid Electric Vehicle (PHEV)     21\n",
       "3    Alameda          Battery Electric Vehicle (BEV)      4\n",
       "4    Alameda  Plug-in Hybrid Electric Vehicle (PHEV)      1\n",
       "..       ...                                     ...    ...\n",
       "283   Yakima          Battery Electric Vehicle (BEV)    912\n",
       "284   Yakima  Plug-in Hybrid Electric Vehicle (PHEV)    372\n",
       "285     Yolo          Battery Electric Vehicle (BEV)      3\n",
       "286     York          Battery Electric Vehicle (BEV)      1\n",
       "287     Yuba          Battery Electric Vehicle (BEV)      1\n",
       "\n",
       "[288 rows x 3 columns]"
      ]
     },
     "execution_count": 14,
     "metadata": {},
     "output_type": "execute_result"
    }
   ],
   "source": [
    "#look at the distribution of the vehicle types across counties\n",
    "ev_count_by_county = ev_clean.groupby(['County','Electric Vehicle Type'])['City'].size().reset_index(name='Count')\n",
    "ev_count_by_county"
   ]
  },
  {
   "cell_type": "markdown",
   "metadata": {},
   "source": [
    "# Ethics & Privacy"
   ]
  },
  {
   "cell_type": "markdown",
   "metadata": {},
   "source": [
    "**Issues with Privacy and Terms of Use:**\n",
    "\n",
    "1. The data set including information on vehicle population, school buses, ZEV sales, hydrogen refueling stations, and EV chargers may have specific privacy and terms of use problems. For example, the frequency of someone using a EV charger at a specific location. The data also has location information, such as the zip code and city. The zip code and car make along with VIN could possibly identify the owner for someone who lives in the same zip code. \n",
    "\n",
    "**Mitigation of Privacy Risks:**\n",
    "\n",
    "2. The team will carefully review by and use the data by the term of use for the datasets to make sure that privacy standards are maintained. We would also use aggregation techniques to make sure that no individual or small group can be identified based on the location or frequency of EV infrastructure usage. To solve these privacy issues, our team will implement stric data handling, with clear promise to protect personal and community level privacy throughout the research. We only conduct analysis focusing on the necessary variables, like county and type of vehicle, to avoid any potential privacy issue.\n",
    "\n"
   ]
  },
  {
   "cell_type": "markdown",
   "metadata": {},
   "source": [
    "Our team acknowledges that this project might have some potential ethics or privacy issues. However, we shall address all potential biases or privacy concerns regarding the use of the data.\n",
    "\n",
    "We used the data from data.wa.gov, “Electric Vehicle Population Data,\" which is intended for public access and use. Our question is about the difference in the preference for hybrid plug-in vehicles versus battery electric vehicles across the counties in Washington. We acknowledge that the data we use is only from Washington State, so it might be limited in expanding the analyses to other states due to various factors. However, this dataset comprises 210,165 samples, each originating from different counties in Washington. The dataset's use and analysis could apply to similar counties with minor ethical or bias issues.\n"
   ]
  },
  {
   "cell_type": "markdown",
   "metadata": {},
   "source": [
    "# Team Expectations "
   ]
  },
  {
   "cell_type": "markdown",
   "metadata": {},
   "source": [
    "\n",
    "* *Communicate via Text. Respond to text within 24 hours. Weekly virtual meetings to finish weekly tasks.*\n",
    "* *Respectfully give feedback. Do not be blunt or rude.*\n",
    "* *Unanimous decision, but if there’s disagreement, then the decision will be made by majority vote.*\n",
    "* *Cecilia will be the facilitator to ensure the project is on track for completion.*\n",
    "* *No other specific roles, but tasks will be assigned or voluntarily taken.*\n",
    "* *The load of tasks should be fair and equal among the team members.*\n",
    "* *A list of current tasks and upcoming meetings will be posted in the group chat announcements section.*\n",
    "* *When issues arise, communicate early with the team. Seek help from the team as soon as possible if you need it.*\n",
    "* *If not able to finish certain tasks one time, take more load of the task next time*"
   ]
  },
  {
   "cell_type": "markdown",
   "metadata": {},
   "source": [
    "# Project Timeline Proposal"
   ]
  },
  {
   "cell_type": "markdown",
   "metadata": {},
   "source": [
    "\n",
    "| Meeting Date  | Meeting Time| Completed Before Meeting  | Discuss at Meeting |\n",
    "|---|---|---|---|\n",
    "| 10/25  |  10 PM | Read & Think about COGS 108 expectations; brainstorm topics/questions  | Determine best form of communication; Discuss and decide on final project topic; discuss hypothesis; begin background research, assign sections | \n",
    "| 10/30  | 5 PM  |Finish draft of proposal; Search for datasets  | Revise and submit proposal |\n",
    "| 11/14 | 6 PM  | Cecilia finishes EDA| Discuss Wrangling and possible analytical approaches; Assign group members to lead each specific part |\n",
    "| 11/20 | 6 PM  | Import & Wrangle Data; EDA | Review/Edit wrangling/EDA; Discuss Analysis Plan   |\n",
    "| 11/27 | 10 PM  | Finalize wrangling/EDA; Begin Analysis | Discuss/edit Analysis; Complete project check-in |\n",
    "| 12/4 |5 PM  | Complete analysis; Draft results/conclusion/discussion| Discuss/edit full project |\n",
    "| 12/11 | Before 11:59 PM  | NA | Turn in Final Project & Group Project Surveys |"
   ]
  },
  {
   "cell_type": "markdown",
   "metadata": {},
   "source": []
  }
 ],
 "metadata": {
  "kernelspec": {
   "display_name": "Python 3",
   "language": "python",
   "name": "python3"
  },
  "language_info": {
   "codemirror_mode": {
    "name": "ipython",
    "version": 3
   },
   "file_extension": ".py",
   "mimetype": "text/x-python",
   "name": "python",
   "nbconvert_exporter": "python",
   "pygments_lexer": "ipython3",
   "version": "3.13.0"
  }
 },
 "nbformat": 4,
 "nbformat_minor": 2
}
